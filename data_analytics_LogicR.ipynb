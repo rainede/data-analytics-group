{
 "cells": [
  {
   "cell_type": "code",
   "execution_count": null,
   "metadata": {
    "collapsed": true
   },
   "outputs": [],
   "source": [
    "\n",
    "#Python 3 notebook\n",
    "import numpy as np\n",
    "import pandas as pd\n",
    "from functools import reduce\n",
    "from math import floor, ceil\n"
   ]
  },
  {
   "cell_type": "code",
   "execution_count": null,
   "metadata": {},
   "outputs": [],
   "source": [
    "df = pd.read_csv('data.csv',header = 1, names =['date', 'prices', 'gold', 'compound', 'neg', 'neu', 'pos' ] )\n",
    "df = df.set_index('date')\n",
    "#Obtaining the past data in a different column\n",
    "df['past_prices'] = df.loc[:,'prices'].shift(7)\n",
    "df = df.iloc[7:df.shape[0]]\n",
    "#Splitting train and test dataset\n",
    "train_size = floor(0.8*df.shape[0])\n",
    "train = df.iloc[0:train_size]\n",
    "test = df.iloc[train_size:]\n",
    "print('Total data size: ',df.shape[0],'. Train data size: ', train.shape[0], '. Test data size: ', test.shape[0], '.',sep='')"
   ]
  },
  {
   "cell_type": "code",
   "execution_count": null,
   "metadata": {
    "scrolled": true
   },
   "outputs": [],
   "source": [
    "#df\n"
   ]
  },
  {
   "cell_type": "code",
   "execution_count": null,
   "metadata": {
    "collapsed": true,
    "scrolled": false
   },
   "outputs": [],
   "source": [
    "#train\n"
   ]
  },
  {
   "cell_type": "code",
   "execution_count": null,
   "metadata": {
    "collapsed": true
   },
   "outputs": [],
   "source": [
    "#test"
   ]
  },
  {
   "cell_type": "code",
   "execution_count": null,
   "metadata": {
    "collapsed": true
   },
   "outputs": [],
   "source": [
    "def offset_value(test_start_date, test, predictions_df,idx):\n",
    "    temp_date = test_start_date\n",
    "    (a,)=idx.shape\n",
    "    average_last_5_days_test = 0\n",
    "    average_upcoming_5_days_predicted = 0\n",
    "    total_days = a\n",
    "    for i in range(total_days):\n",
    "        average_last_5_days_test += test.loc[temp_date, 'prices']\n",
    "        #temp_date = datetime.strptime(temp_date, \"%Y-%m-%d\").date()\n",
    "        #difference = datetime.strptime(idx[i], \"%Y-%m-%d\")\n",
    "        #temp_date = difference.strftime('%Y-%m-%d')\n",
    "        temp_date = idx[i]\n",
    "        #print(difference) \n",
    "    average_last_5_days_test = average_last_5_days_test / total_days\n",
    "\n",
    "    temp_date = test_start_date\n",
    "    for i in range(total_days):\n",
    "        average_upcoming_5_days_predicted += predictions_df.loc[temp_date, 'prices']\n",
    "        #temp_date = datetime.strptime(temp_date, \"%Y-%m-%d\").date()\n",
    "        #difference = datetime.strptime(idx[i], \"%Y-%m-%d\")\n",
    "        #temp_date = difference.strftime('%Y-%m-%d')\n",
    "        temp_date = idx[i]\n",
    "    average_upcoming_5_days_predicted = average_upcoming_5_days_predicted / total_days\n",
    "    difference_test_predicted_prices = (average_last_5_days_test - average_upcoming_5_days_predicted)\n",
    "    return difference_test_predicted_prices"
   ]
  },
  {
   "cell_type": "code",
   "execution_count": null,
   "metadata": {
    "collapsed": true
   },
   "outputs": [],
   "source": []
  },
  {
   "cell_type": "code",
   "execution_count": null,
   "metadata": {
    "scrolled": false
   },
   "outputs": [],
   "source": [
    "from treeinterpreter import treeinterpreter as ti\n",
    "from sklearn.linear_model import LogisticRegression\n",
    "from datetime import datetime, timedelta\n",
    "import matplotlib.pyplot as plt\n",
    "\n",
    "# average_upcoming_5_days_predicted += predictions_df.loc[temp_date, 'prices']\n",
    "# # Converting string to date time\n",
    "# temp_date = datetime.strptime(temp_date, \"%Y-%m-%d\").date()\n",
    "# # Adding one day from date time\n",
    "# difference = temp_date + timedelta(days=1)\n",
    "# # Converting again date time to string\n",
    "# temp_date = difference.strftime('%Y-%m-%d')\n",
    "        \n",
    "# start_year = datetime.strptime(train_start_date, \"%Y-%m-%d\").date().month\n",
    "\n",
    "\n",
    "prediction_list = []\n",
    "\n",
    "# Splitting the training and testing data\n",
    "#train_start_date = str(year) + '-01-01'\n",
    "#train_end_date = str(year) + '-10-31'\n",
    "#test_start_date = str(year) + '-11-01'\n",
    "#test_end_date = str(year) + '-12-31'\n",
    "#train = df.ix[train_start_date : train_end_date]\n",
    "#test = df.ix[test_start_date:test_end_date]\n",
    "    \n",
    "    # Calculating the sentiment score\n",
    "sentiment_score_list = []\n",
    "for date, row in train.T.iteritems():\n",
    "    sentiment_score = np.asarray([train.loc[date, 'compound'],train.loc[date, 'neg'],train.loc[date, 'neu'],train.loc[date, 'pos']])\n",
    "    #sentiment_score = np.asarray([df.loc[date, 'neg'],df.loc[date, 'pos']])\n",
    "    sentiment_score_list.append(sentiment_score)\n",
    "numpy_df_train = np.asarray(sentiment_score_list)\n",
    "sentiment_score_list = []\n",
    "for date, row in test.T.iteritems():\n",
    "    sentiment_score = np.asarray([test.loc[date, 'compound'],test.loc[date, 'neg'],test.loc[date, 'neu'],test.loc[date, 'pos']])\n",
    "    #sentiment_score = np.asarray([df.loc[date, 'neg'],df.loc[date, 'pos']])\n",
    "    sentiment_score_list.append(sentiment_score)\n",
    "numpy_df_test = np.asarray(sentiment_score_list)\n",
    "\n",
    " # Generating models\n",
    "lr = LogisticRegression()\n",
    "lr.fit(numpy_df_train, train['prices'])\n",
    "\n",
    "prediction = lr.predict(numpy_df_test)\n",
    "prediction_list.append(prediction)\n",
    "#print train_start_date + ' ' + train_end_date + ' ' + test_start_date + ' ' + test_end_date\n",
    "\n",
    "test_start_date = '2017-01-27'\n",
    "test_end_date = '2018-01-02'\n",
    "#train_start_date = '2013-05-13'\n",
    "#train_end_date = '2017-01-26'\n",
    "#idx = pd.date_range(test_start_date, test_end_date)\n",
    "idx = test.index\n",
    "#print year\n",
    "predictions_df_list = pd.DataFrame(data=prediction[0:], index = idx, columns=['prices'])\n",
    "    \n",
    "difference_test_predicted_prices = offset_value(test_start_date, test, predictions_df_list,idx)\n",
    "# Adding offset to all the advpredictions_df price values\n",
    "predictions_df_list['prices'] = predictions_df_list['prices'] + difference_test_predicted_prices\n",
    "\n",
    "#predictions_df_list['actual_value'] = test['prices']\n",
    "#predictions_df_list.plot()\n",
    "# Smoothing the plot\n",
    "predictions_df_list['ewma'] = pd.ewma(predictions_df_list[\"prices\"], span=10)\n",
    "predictions_df_list['actual_value'] = test['prices']\n",
    "predictions_df_list['actual_value_ewma'] = pd.ewma(predictions_df_list[\"actual_value\"], span=10)\n",
    "# Changing column names\n",
    "predictions_df_list.columns = ['predicted_price', 'average_predicted_price', 'actual_price', 'average_actual_price']\n",
    "predictions_df_list.plot()\n",
    "predictions_df_list_average = predictions_df_list[['average_predicted_price', 'average_actual_price']]\n",
    "predictions_df_list_average.plot()\n",
    "#plt.plot( range(0,test.shape[0]), predictions_df_list, range(0,test.shape[0]), test_data.loc[:,'prices'].as_matrix())\n",
    "#predictions_df_list.show()\n",
    "plt.show()\n",
    "\n",
    "\n",
    "\n",
    "\n",
    "    \n"
   ]
  },
  {
   "cell_type": "code",
   "execution_count": null,
   "metadata": {},
   "outputs": [],
   "source": [
    "lr.classes_"
   ]
  },
  {
   "cell_type": "code",
   "execution_count": null,
   "metadata": {},
   "outputs": [],
   "source": [
    "lr.coef_[0]"
   ]
  },
  {
   "cell_type": "code",
   "execution_count": null,
   "metadata": {},
   "outputs": [],
   "source": [
    "from sklearn import metrics\n",
    "import numpy as np\n",
    "\n",
    "\n",
    "# calculate MAE using scikit-learn\n",
    "mae=metrics.mean_absolute_error(test['prices'], predictions_df_list['predicted_price'])\n",
    "print('MAE:',mae)\n",
    "\n"
   ]
  },
  {
   "cell_type": "code",
   "execution_count": null,
   "metadata": {
    "collapsed": true
   },
   "outputs": [],
   "source": []
  },
  {
   "cell_type": "code",
   "execution_count": null,
   "metadata": {
    "collapsed": true
   },
   "outputs": [],
   "source": []
  },
  {
   "cell_type": "code",
   "execution_count": null,
   "metadata": {
    "collapsed": true
   },
   "outputs": [],
   "source": []
  },
  {
   "cell_type": "code",
   "execution_count": null,
   "metadata": {
    "collapsed": true
   },
   "outputs": [],
   "source": []
  }
 ],
 "metadata": {
  "kernelspec": {
   "display_name": "Python 3",
   "language": "python",
   "name": "python3"
  },
  "language_info": {
   "codemirror_mode": {
    "name": "ipython",
    "version": 3
   },
   "file_extension": ".py",
   "mimetype": "text/x-python",
   "name": "python",
   "nbconvert_exporter": "python",
   "pygments_lexer": "ipython3",
   "version": "3.6.3"
  }
 },
 "nbformat": 4,
 "nbformat_minor": 2
}
