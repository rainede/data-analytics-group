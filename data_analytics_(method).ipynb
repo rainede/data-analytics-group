{
 "cells": [
  {
   "cell_type": "code",
   "execution_count": 5,
   "metadata": {},
   "outputs": [],
   "source": [
    "#Python 3 notebook\n",
    "import numpy as np\n",
    "import pandas as pd\n",
    "from functools import reduce\n",
    "from math import floor, ceil"
   ]
  },
  {
   "cell_type": "code",
   "execution_count": 23,
   "metadata": {},
   "outputs": [
    {
     "name": "stdout",
     "output_type": "stream",
     "text": [
      "Total data size: 1184 .Train data size: 947 .Test data size:  237 .\n"
     ]
    }
   ],
   "source": [
    "data = pd.read_csv('data.csv',header = None, names =['date', 'adjClose', 'gold', 'compound', 'neg', 'neu', 'pos' ] )\n",
    "data = data.set_index('date')\n",
    "#Splitting train and test dataset\n",
    "train_size = floor(0.8*data.shape[0])\n",
    "train_data = data.iloc[0:train_size]\n",
    "test_data = data.iloc[train_size:]\n",
    "print('Total data size:',data.shape[0],'.Train data size:', train_data.shape[0], '.Test data size: ', test_data.shape[0], '.')\n"
   ]
  },
  {
   "cell_type": "code",
   "execution_count": null,
   "metadata": {},
   "outputs": [],
   "source": []
  }
 ],
 "metadata": {
  "kernelspec": {
   "display_name": "Python 3",
   "language": "python",
   "name": "python3"
  },
  "language_info": {
   "codemirror_mode": {
    "name": "ipython",
    "version": 3
   },
   "file_extension": ".py",
   "mimetype": "text/x-python",
   "name": "python",
   "nbconvert_exporter": "python",
   "pygments_lexer": "ipython3",
   "version": "3.5.3"
  }
 },
 "nbformat": 4,
 "nbformat_minor": 2
}
